{
  "nbformat": 4,
  "nbformat_minor": 0,
  "metadata": {
    "colab": {
      "name": "Sayyid Fadhal T_1101208537_TTX-44-01_Tugas13.ipynb",
      "provenance": [],
      "authorship_tag": "ABX9TyPmUc3HOcDT7Q+iYDgQI3zc",
      "include_colab_link": true
    },
    "kernelspec": {
      "name": "python3",
      "display_name": "Python 3"
    }
  },
  "cells": [
    {
      "cell_type": "markdown",
      "metadata": {
        "id": "view-in-github",
        "colab_type": "text"
      },
      "source": [
        "<a href=\"https://colab.research.google.com/github/sayyidfadhal/Tugas13/blob/main/Sayyid_Fadhal_T_1101208537_TTX_44_01_Tugas13.ipynb\" target=\"_parent\"><img src=\"https://colab.research.google.com/assets/colab-badge.svg\" alt=\"Open In Colab\"/></a>"
      ]
    },
    {
      "cell_type": "code",
      "metadata": {
        "id": "o5KoYe7Z8MT6"
      },
      "source": [
        "# Nama  : Sayyid Fadhal Taufiqurohman\r\n",
        "# Nim   : 1101208537\r\n",
        "# Kelas : TTX-44-01"
      ],
      "execution_count": 1,
      "outputs": []
    },
    {
      "cell_type": "code",
      "metadata": {
        "id": "84J-UQU-8XOm"
      },
      "source": [
        "import numpy as np\r\n",
        "import matplotlib.pyplot as plt"
      ],
      "execution_count": 2,
      "outputs": []
    },
    {
      "cell_type": "code",
      "metadata": {
        "colab": {
          "base_uri": "https://localhost:8080/"
        },
        "id": "NenwmcBW8XW6",
        "outputId": "9db77956-8c46-43a3-c456-01f0208ecaa4"
      },
      "source": [
        "np.zeros(4)"
      ],
      "execution_count": 3,
      "outputs": [
        {
          "output_type": "execute_result",
          "data": {
            "text/plain": [
              "array([0., 0., 0., 0.])"
            ]
          },
          "metadata": {
            "tags": []
          },
          "execution_count": 3
        }
      ]
    },
    {
      "cell_type": "code",
      "metadata": {
        "colab": {
          "base_uri": "https://localhost:8080/"
        },
        "id": "x3MDAETQ8Xeq",
        "outputId": "b8e216a5-7195-49b2-ad78-86a8d4c9c38c"
      },
      "source": [
        "np.ones(3)"
      ],
      "execution_count": 4,
      "outputs": [
        {
          "output_type": "execute_result",
          "data": {
            "text/plain": [
              "array([1., 1., 1.])"
            ]
          },
          "metadata": {
            "tags": []
          },
          "execution_count": 4
        }
      ]
    },
    {
      "cell_type": "code",
      "metadata": {
        "colab": {
          "base_uri": "https://localhost:8080/"
        },
        "id": "5xTvJuf48XmW",
        "outputId": "48723400-7c99-4a12-f351-4a38a645e9f3"
      },
      "source": [
        "np.zeros((3,4))"
      ],
      "execution_count": 5,
      "outputs": [
        {
          "output_type": "execute_result",
          "data": {
            "text/plain": [
              "array([[0., 0., 0., 0.],\n",
              "       [0., 0., 0., 0.],\n",
              "       [0., 0., 0., 0.]])"
            ]
          },
          "metadata": {
            "tags": []
          },
          "execution_count": 5
        }
      ]
    },
    {
      "cell_type": "code",
      "metadata": {
        "colab": {
          "base_uri": "https://localhost:8080/"
        },
        "id": "kFQ19A5r8Xu6",
        "outputId": "cb4560d9-1689-4867-9f21-ae3a691f40fa"
      },
      "source": [
        "np.ones((5,2))"
      ],
      "execution_count": 6,
      "outputs": [
        {
          "output_type": "execute_result",
          "data": {
            "text/plain": [
              "array([[1., 1.],\n",
              "       [1., 1.],\n",
              "       [1., 1.],\n",
              "       [1., 1.],\n",
              "       [1., 1.]])"
            ]
          },
          "metadata": {
            "tags": []
          },
          "execution_count": 6
        }
      ]
    },
    {
      "cell_type": "code",
      "metadata": {
        "colab": {
          "base_uri": "https://localhost:8080/"
        },
        "id": "TxUnfvPO8X2w",
        "outputId": "67113051-6d0a-4088-bade-0b111ed8524c"
      },
      "source": [
        "np.arange(10)"
      ],
      "execution_count": 7,
      "outputs": [
        {
          "output_type": "execute_result",
          "data": {
            "text/plain": [
              "array([0, 1, 2, 3, 4, 5, 6, 7, 8, 9])"
            ]
          },
          "metadata": {
            "tags": []
          },
          "execution_count": 7
        }
      ]
    },
    {
      "cell_type": "code",
      "metadata": {
        "colab": {
          "base_uri": "https://localhost:8080/"
        },
        "id": "rfRt8-AR8X96",
        "outputId": "8fdf907d-bd2b-49b3-9bbf-88ffff256f10"
      },
      "source": [
        "np.arange(2,10)"
      ],
      "execution_count": 8,
      "outputs": [
        {
          "output_type": "execute_result",
          "data": {
            "text/plain": [
              "array([2, 3, 4, 5, 6, 7, 8, 9])"
            ]
          },
          "metadata": {
            "tags": []
          },
          "execution_count": 8
        }
      ]
    },
    {
      "cell_type": "code",
      "metadata": {
        "colab": {
          "base_uri": "https://localhost:8080/"
        },
        "id": "BpOYVLxw8YFA",
        "outputId": "bd1f14f3-a88c-4afe-9579-e68189856bf3"
      },
      "source": [
        "np.arange(3,47,4)"
      ],
      "execution_count": 9,
      "outputs": [
        {
          "output_type": "execute_result",
          "data": {
            "text/plain": [
              "array([ 3,  7, 11, 15, 19, 23, 27, 31, 35, 39, 43])"
            ]
          },
          "metadata": {
            "tags": []
          },
          "execution_count": 9
        }
      ]
    },
    {
      "cell_type": "code",
      "metadata": {
        "id": "9LdGDogi8YMG"
      },
      "source": [
        ""
      ],
      "execution_count": 9,
      "outputs": []
    },
    {
      "cell_type": "code",
      "metadata": {
        "colab": {
          "base_uri": "https://localhost:8080/"
        },
        "id": "g5qB8bfR8YTE",
        "outputId": "65427d93-f4c3-4092-e270-f165c085ef27"
      },
      "source": [
        "np.arange(4,5,0.1)"
      ],
      "execution_count": 10,
      "outputs": [
        {
          "output_type": "execute_result",
          "data": {
            "text/plain": [
              "array([4. , 4.1, 4.2, 4.3, 4.4, 4.5, 4.6, 4.7, 4.8, 4.9])"
            ]
          },
          "metadata": {
            "tags": []
          },
          "execution_count": 10
        }
      ]
    },
    {
      "cell_type": "code",
      "metadata": {
        "colab": {
          "base_uri": "https://localhost:8080/"
        },
        "id": "ZmnjLCXQ8YZq",
        "outputId": "1374f7eb-aec8-4e07-cacd-48d9172825a4"
      },
      "source": [
        "np.arange(2,-4,-0.5)"
      ],
      "execution_count": 11,
      "outputs": [
        {
          "output_type": "execute_result",
          "data": {
            "text/plain": [
              "array([ 2. ,  1.5,  1. ,  0.5,  0. , -0.5, -1. , -1.5, -2. , -2.5, -3. ,\n",
              "       -3.5])"
            ]
          },
          "metadata": {
            "tags": []
          },
          "execution_count": 11
        }
      ]
    },
    {
      "cell_type": "code",
      "metadata": {
        "colab": {
          "base_uri": "https://localhost:8080/"
        },
        "id": "gcghLNll8Ygp",
        "outputId": "6179e690-1bf5-4d97-f862-ddcf84d55198"
      },
      "source": [
        "np.linspace(2,10,4)"
      ],
      "execution_count": 12,
      "outputs": [
        {
          "output_type": "execute_result",
          "data": {
            "text/plain": [
              "array([ 2.        ,  4.66666667,  7.33333333, 10.        ])"
            ]
          },
          "metadata": {
            "tags": []
          },
          "execution_count": 12
        }
      ]
    },
    {
      "cell_type": "code",
      "metadata": {
        "colab": {
          "base_uri": "https://localhost:8080/"
        },
        "id": "3yyzTCuI8YoY",
        "outputId": "f4707e50-299b-4f2c-c2bb-e6dd3f132085"
      },
      "source": [
        "np.linspace(2,-4,4)"
      ],
      "execution_count": 13,
      "outputs": [
        {
          "output_type": "execute_result",
          "data": {
            "text/plain": [
              "array([ 2.,  0., -2., -4.])"
            ]
          },
          "metadata": {
            "tags": []
          },
          "execution_count": 13
        }
      ]
    },
    {
      "cell_type": "code",
      "metadata": {
        "id": "i-UwCwvv8Yt0"
      },
      "source": [
        "e=np.arange(0,20,2)"
      ],
      "execution_count": 14,
      "outputs": []
    },
    {
      "cell_type": "code",
      "metadata": {
        "colab": {
          "base_uri": "https://localhost:8080/"
        },
        "id": "0OyjGgAQ8Y0R",
        "outputId": "33b4ee44-e4d7-4378-85df-7206f4430b38"
      },
      "source": [
        "len(e)"
      ],
      "execution_count": 15,
      "outputs": [
        {
          "output_type": "execute_result",
          "data": {
            "text/plain": [
              "10"
            ]
          },
          "metadata": {
            "tags": []
          },
          "execution_count": 15
        }
      ]
    },
    {
      "cell_type": "code",
      "metadata": {
        "colab": {
          "base_uri": "https://localhost:8080/"
        },
        "id": "b0G3hnE-8Y98",
        "outputId": "726656de-9ea5-44c2-9ee8-7729b666a4bc"
      },
      "source": [
        "e.reshape(5,2)"
      ],
      "execution_count": 16,
      "outputs": [
        {
          "output_type": "execute_result",
          "data": {
            "text/plain": [
              "array([[ 0,  2],\n",
              "       [ 4,  6],\n",
              "       [ 8, 10],\n",
              "       [12, 14],\n",
              "       [16, 18]])"
            ]
          },
          "metadata": {
            "tags": []
          },
          "execution_count": 16
        }
      ]
    },
    {
      "cell_type": "code",
      "metadata": {
        "colab": {
          "base_uri": "https://localhost:8080/"
        },
        "id": "SIWJ4UOf8ZDN",
        "outputId": "16c977cc-6fcd-4991-9bf2-6ee95308dd75"
      },
      "source": [
        "e.reshape(2,5)"
      ],
      "execution_count": 17,
      "outputs": [
        {
          "output_type": "execute_result",
          "data": {
            "text/plain": [
              "array([[ 0,  2,  4,  6,  8],\n",
              "       [10, 12, 14, 16, 18]])"
            ]
          },
          "metadata": {
            "tags": []
          },
          "execution_count": 17
        }
      ]
    },
    {
      "cell_type": "code",
      "metadata": {
        "colab": {
          "base_uri": "https://localhost:8080/"
        },
        "id": "eRS0Wk8w8ZMG",
        "outputId": "b259c0ca-6517-4a8a-ee21-273d8e974220"
      },
      "source": [
        "print(e)"
      ],
      "execution_count": 18,
      "outputs": [
        {
          "output_type": "stream",
          "text": [
            "[ 0  2  4  6  8 10 12 14 16 18]\n"
          ],
          "name": "stdout"
        }
      ]
    },
    {
      "cell_type": "code",
      "metadata": {
        "id": "zoaE1nTX8ZSy"
      },
      "source": [
        "f=e.reshape(5,2)"
      ],
      "execution_count": 19,
      "outputs": []
    },
    {
      "cell_type": "code",
      "metadata": {
        "colab": {
          "base_uri": "https://localhost:8080/"
        },
        "id": "fAMpBTXJ8ZaL",
        "outputId": "961dc2ba-3d4a-4382-d82c-34afe81211c4"
      },
      "source": [
        "print(f)"
      ],
      "execution_count": 20,
      "outputs": [
        {
          "output_type": "stream",
          "text": [
            "[[ 0  2]\n",
            " [ 4  6]\n",
            " [ 8 10]\n",
            " [12 14]\n",
            " [16 18]]\n"
          ],
          "name": "stdout"
        }
      ]
    },
    {
      "cell_type": "code",
      "metadata": {
        "colab": {
          "base_uri": "https://localhost:8080/"
        },
        "id": "Fokdrdzp8ZhI",
        "outputId": "55b724af-ba37-43ec-d25f-0e1eedbe2d70"
      },
      "source": [
        "np.random.random((3,4))"
      ],
      "execution_count": 21,
      "outputs": [
        {
          "output_type": "execute_result",
          "data": {
            "text/plain": [
              "array([[0.62324709, 0.50904724, 0.49739198, 0.33723118],\n",
              "       [0.14374072, 0.33684804, 0.24013182, 0.05679457],\n",
              "       [0.14511102, 0.58554068, 0.94977907, 0.01312496]])"
            ]
          },
          "metadata": {
            "tags": []
          },
          "execution_count": 21
        }
      ]
    },
    {
      "cell_type": "code",
      "metadata": {
        "colab": {
          "base_uri": "https://localhost:8080/"
        },
        "id": "jnzTNGs-99y8",
        "outputId": "4924d574-6ee1-47eb-d4ca-97f9113ed89c"
      },
      "source": [
        "np.random.randint(1,20,10)"
      ],
      "execution_count": 22,
      "outputs": [
        {
          "output_type": "execute_result",
          "data": {
            "text/plain": [
              "array([14,  7, 17, 10, 19, 19,  9, 16,  8, 16])"
            ]
          },
          "metadata": {
            "tags": []
          },
          "execution_count": 22
        }
      ]
    },
    {
      "cell_type": "code",
      "metadata": {
        "colab": {
          "base_uri": "https://localhost:8080/"
        },
        "id": "9-yRvz1F9-Za",
        "outputId": "dd594126-9c3a-410b-c011-cc10ebbf35fa"
      },
      "source": [
        "np.random.randn(3)"
      ],
      "execution_count": 23,
      "outputs": [
        {
          "output_type": "execute_result",
          "data": {
            "text/plain": [
              "array([0.71814232, 1.82889129, 0.01872047])"
            ]
          },
          "metadata": {
            "tags": []
          },
          "execution_count": 23
        }
      ]
    },
    {
      "cell_type": "code",
      "metadata": {
        "id": "UE4m_94o_wZF"
      },
      "source": [
        "#GRAFIK FREKUENSI 1800 MHz (URBAN, OPEN, DAN SUB URBAN)"
      ],
      "execution_count": 24,
      "outputs": []
    },
    {
      "cell_type": "code",
      "metadata": {
        "id": "bllqcG9R9-ou"
      },
      "source": [
        "def cos(frek,tipe,ht,hr,d):\r\n",
        "    if frek in range(150,1501):\r\n",
        "        Ca=69.55\r\n",
        "        Cb=26.16\r\n",
        "    elif frek in range(1501,2001):\r\n",
        "        Ca=46.3\r\n",
        "        Cb=33.9\r\n",
        "    \r\n",
        "    if tipe=='urban' :\r\n",
        "        Cm=0\r\n",
        "    elif tipe=='suburban' :\r\n",
        "        Cm= -2*((np.log10((frek/28)**2))-5.4)\r\n",
        "    elif tipe=='open' :\r\n",
        "        Cm= -4.78*(np.log10(frek))+18.33*(np.log10(frek))-40.94\r\n",
        "    else :\r\n",
        "        Cm='tipe salah'\r\n",
        "    \r\n",
        "    ahr = (1.1*np.log10(frek)-0.7)*hr-(1.56*np.log10(frek)-1.8)\r\n",
        "    Lp = Ca+(Cb*np.log10(frek))-(13.83*np.log(ht))-ahr+((44.9-6.55*np.log10(ht))*np.log10(d))-Cm\r\n",
        "    \r\n",
        "    return Lp"
      ],
      "execution_count": 25,
      "outputs": []
    },
    {
      "cell_type": "code",
      "metadata": {
        "id": "2rQHdZZ69-xi"
      },
      "source": [
        "f=1800 #MHz\r\n",
        "loc1='urban'\r\n",
        "loc2='open'\r\n",
        "loc3='suburban'\r\n",
        "tower=80 #m\r\n",
        "user=1.5 #m\r\n",
        "dmin=200 #m\r\n",
        "dmax=700 #m\r\n",
        "N=200 #titik\r\n",
        "d=np.random.randint(dmin,dmax,N)"
      ],
      "execution_count": 26,
      "outputs": []
    },
    {
      "cell_type": "code",
      "metadata": {
        "colab": {
          "base_uri": "https://localhost:8080/"
        },
        "id": "J15VxZZm9-5f",
        "outputId": "22fd8f31-6b02-4588-bec2-2a57dbd0ba69"
      },
      "source": [
        "print(d)"
      ],
      "execution_count": 27,
      "outputs": [
        {
          "output_type": "stream",
          "text": [
            "[421 480 205 590 376 630 312 444 519 590 478 340 500 659 310 686 584 616\n",
            " 633 212 446 380 502 324 688 402 275 285 664 597 661 350 568 626 412 681\n",
            " 362 279 273 267 520 634 527 489 587 330 360 383 334 402 690 399 523 610\n",
            " 447 558 502 500 683 349 460 363 515 551 636 305 681 508 680 508 299 326\n",
            " 472 396 322 231 695 205 273 531 584 233 559 318 401 392 470 458 497 657\n",
            " 314 533 635 304 402 312 617 353 362 418 219 257 630 339 554 434 269 538\n",
            " 647 479 409 351 254 604 496 323 266 391 376 685 684 625 210 350 544 267\n",
            " 440 220 435 251 476 331 675 285 360 640 297 331 651 512 362 305 261 307\n",
            " 681 298 374 619 640 650 243 320 430 539 400 378 577 639 210 358 491 586\n",
            " 396 259 505 479 342 222 254 328 498 278 545 279 462 318 659 687 575 556\n",
            " 596 673 619 646 393 598 393 375 479 630 279 488 307 220 260 277 272 351\n",
            " 322 521]\n"
          ],
          "name": "stdout"
        }
      ]
    },
    {
      "cell_type": "code",
      "metadata": {
        "id": "670-e12p9_A_"
      },
      "source": [
        "LpUrban=cos(f,loc1,tower,user,d)\r\n",
        "LpOpen=cos(f,loc2,tower,user,d)\r\n",
        "LpSuburban=cos(f,loc3,tower,user,d)"
      ],
      "execution_count": 28,
      "outputs": []
    },
    {
      "cell_type": "code",
      "metadata": {
        "colab": {
          "base_uri": "https://localhost:8080/"
        },
        "id": "wHYPmd269_Ic",
        "outputId": "9024496d-8ba1-4640-9906-4d1949cb6666"
      },
      "source": [
        "print(LpUrban, LpOpen, LpSuburban)"
      ],
      "execution_count": 29,
      "outputs": [
        {
          "output_type": "stream",
          "text": [
            "[180.12529653 181.97275265 169.98851806 184.87925665 178.53293625\n",
            " 185.80327556 175.90464216 180.87456785 183.07313824 184.87925665\n",
            " 181.91393737 177.11524764 182.54778096 186.43720858 175.81405511\n",
            " 187.00282867 184.73527342 185.48671757 185.87019368 170.46148173\n",
            " 180.93787689 178.68199836 182.60401352 176.43626138 187.04383667\n",
            " 179.47478358 174.12650695 174.62964035 186.54368103 185.04539786\n",
            " 186.47989418 177.52357297 184.34396388 185.713554   179.8209002\n",
            " 186.89978332 177.99843493 174.32992186 174.02368724 173.71064686\n",
            " 183.10025324 185.89242926 183.2886107  182.23442403 184.807449\n",
            " 176.69473171 177.92039464 178.79276882 176.86444747 179.47478358\n",
            " 187.08472564 179.3692682  183.18128647 185.34884139 180.96942503\n",
            " 184.0937577  182.60401352 182.54778096 186.94109196 177.48326897\n",
            " 181.37324781 178.03729354 182.96415327 183.91593088 185.9367954\n",
            " 175.58500555 186.89978332 182.77137672 186.87908348 182.77137672\n",
            " 175.30513732 176.5229462  181.73600358 179.26295647 176.34903982\n",
            " 171.67052372 187.18643176 169.98851806 174.02368724 183.3951234\n",
            " 184.73527342 171.79195756 184.11897926 176.17295956 179.43969953\n",
            " 179.11994775 181.67618932 181.31186977 182.46300896 186.39439323\n",
            " 175.99465037 183.44807925 185.91462979 175.53874529 179.47478358\n",
            " 175.90464216 185.5095663  177.64379763 177.99843493 180.02456019\n",
            " 170.91907957 173.17293892 185.80327556 177.07375648 183.99241742\n",
            " 180.55368296 173.81576852 183.57960436 186.17834241 181.94337571\n",
            " 179.71795525 177.56376198 173.00754089 185.20960232 182.43463788\n",
            " 176.39271811 173.65779037 179.08396756 178.53293625 186.98227982\n",
            " 186.96170094 185.69103403 170.32796189 177.52357297 183.73583041\n",
            " 173.71064686 180.74708972 170.98325388 180.5861024  172.84017768\n",
            " 181.85487549 176.73735273 186.77512553 174.62964035 177.92039464\n",
            " 186.02511066 175.21059846 176.73735273 186.26516079 182.88185758\n",
            " 177.99843493 175.58500555 173.39049132 175.67707279 186.89978332\n",
            " 175.2579472  178.45780947 185.55515287 186.02511066 186.24350631\n",
            " 172.38390337 176.26127482 180.42325391 183.60576266 179.40452789\n",
            " 178.60766448 184.56541147 186.0030837  170.32796189 177.84191957\n",
            " 182.29191895 184.78343154 179.26295647 173.28213511 182.68794368\n",
            " 181.94337571 177.19786511 171.11073201 173.00754089 176.60910082\n",
            " 182.49132302 174.27934286 183.76170046 174.32992186 181.43435956\n",
            " 176.17295956 186.43720858 187.0233476  184.51650088 184.04317869\n",
            " 185.02178304 186.73332658 185.55515287 186.15655395 179.15583628\n",
            " 185.06897316 179.15583628 178.49542295 181.94337571 185.80327556\n",
            " 174.32992186 182.20558832 175.67707279 170.98325388 173.3364174\n",
            " 174.22858158 173.97199457 177.56376198 176.34903982 183.12731614] [176.95635408 178.8038102  166.81957561 181.71031421 175.36399381\n",
            " 182.63433311 172.73569972 177.70562541 179.9041958  181.71031421\n",
            " 178.74499493 173.9463052  179.37883851 183.26826614 172.64511267\n",
            " 183.83388623 181.56633097 182.31777513 182.70125123 167.29253929\n",
            " 177.76893445 175.51305591 179.43507107 173.26731894 183.87489423\n",
            " 176.30584114 170.95756451 171.4606979  183.37473858 181.87645542\n",
            " 183.31095174 174.35463053 181.17502143 182.54461155 176.65195775\n",
            " 183.73084087 174.82949249 171.16097942 170.8547448  170.54170442\n",
            " 179.9313108  182.72348681 180.11966826 179.06548158 181.63850656\n",
            " 173.52578927 174.75145219 175.62382637 173.69550502 176.30584114\n",
            " 183.91578319 176.20032576 180.01234402 182.17989895 177.80048259\n",
            " 180.92481525 179.43507107 179.37883851 183.77214952 174.31432653\n",
            " 178.20430536 174.8683511  179.79521082 180.74698843 182.76785295\n",
            " 172.41606311 183.73084087 179.60243428 183.71014103 179.60243428\n",
            " 172.13619488 173.35400375 178.56706114 176.09401402 173.18009738\n",
            " 168.50158128 184.01748932 166.81957561 170.8547448  180.22618096\n",
            " 181.56633097 168.62301511 180.95003681 173.00401711 176.27075709\n",
            " 175.95100531 178.50724688 178.14292732 179.29406652 183.22545079\n",
            " 172.82570793 180.2791368  182.74568735 172.36980284 176.30584114\n",
            " 172.73569972 182.34062386 174.47485519 174.82949249 176.85561775\n",
            " 167.75013712 170.00399648 182.63433311 173.90481404 180.82347498\n",
            " 177.38474052 170.64682608 180.41066192 183.00939997 178.77443326\n",
            " 176.54901281 174.39481953 169.83859844 182.04065988 179.26569543\n",
            " 173.22377567 170.48884793 175.91502512 175.36399381 183.81333738\n",
            " 183.7927585  182.52209158 167.15901945 174.35463053 180.56688796\n",
            " 170.54170442 177.57814728 167.81431144 177.41715995 169.67123523\n",
            " 178.68593305 173.56841029 183.60618309 171.4606979  174.75145219\n",
            " 182.85616821 172.04165601 173.56841029 183.09621835 179.71291514\n",
            " 174.82949249 172.41606311 170.22154887 172.50813035 183.73084087\n",
            " 172.08900476 175.28886703 182.38621042 182.85616821 183.07456387\n",
            " 169.21496093 173.09233237 177.25431146 180.43682021 176.23558544\n",
            " 175.43872203 181.39646903 182.83414125 167.15901945 174.67297713\n",
            " 179.12297651 181.6144891  176.09401402 170.11319266 179.51900124\n",
            " 178.77443326 174.02892266 167.94178957 169.83859844 173.44015838\n",
            " 179.32238057 171.11040041 180.59275801 171.16097942 178.26541712\n",
            " 173.00401711 183.26826614 183.85440515 181.34755843 180.87423625\n",
            " 181.8528406  183.56438414 182.38621042 182.98761151 175.98689383\n",
            " 181.90003072 175.98689383 175.3264805  178.77443326 182.63433311\n",
            " 171.16097942 179.03664588 172.50813035 167.81431144 170.16747496\n",
            " 171.05963914 170.80305213 174.39481953 173.18009738 179.9583737 ] [176.55775442 178.40521054 166.42097595 181.31171455 174.96539415\n",
            " 182.23573345 172.33710005 177.30702575 179.50559614 181.31171455\n",
            " 178.34639527 173.54770554 178.98023885 182.86966647 172.24651301\n",
            " 183.43528657 181.16773131 181.91917547 182.30265157 166.89393963\n",
            " 177.37033479 175.11445625 179.03647141 172.86871928 183.47629457\n",
            " 175.90724148 170.55896485 171.06209824 182.97613892 181.47785576\n",
            " 182.91235208 173.95603087 180.77642177 182.14601189 176.25335809\n",
            " 183.33224121 174.43089283 170.76237975 170.45614514 170.14310475\n",
            " 179.53271113 182.32488715 179.7210686  178.66688192 181.2399069\n",
            " 173.12718961 174.35285253 175.22522671 173.29690536 175.90724148\n",
            " 183.51718353 175.8017261  179.61374436 181.78129928 177.40188292\n",
            " 180.52621559 179.03647141 178.98023885 183.37354986 173.91572687\n",
            " 177.8057057  174.46975144 179.39661116 180.34838877 182.36925329\n",
            " 172.01746345 183.33224121 179.20383462 183.31154137 179.20383462\n",
            " 171.73759522 172.95540409 178.16846148 175.69541436 172.78149772\n",
            " 168.10298162 183.61888966 166.42097595 170.45614514 179.8275813\n",
            " 181.16773131 168.22441545 180.55143715 172.60541745 175.87215743\n",
            " 175.55240565 178.10864722 177.74432766 178.89546686 182.82685113\n",
            " 172.42710827 179.88053714 182.34708769 171.97120318 175.90724148\n",
            " 172.33710005 181.94202419 174.07625553 174.43089283 176.45701809\n",
            " 167.35153746 169.60539682 182.23573345 173.50621438 180.42487532\n",
            " 176.98614086 170.24822642 180.01206226 182.61080031 178.3758336\n",
            " 176.15041315 173.99621987 169.43999878 181.64206022 178.86709577\n",
            " 172.82517601 170.09024827 175.51642546 174.96539415 183.41473772\n",
            " 183.39415884 182.12349192 166.76041979 173.95603087 180.1682883\n",
            " 170.14310475 177.17954762 167.41571178 177.01856029 169.27263557\n",
            " 178.28733339 173.16981063 183.20758343 171.06209824 174.35285253\n",
            " 182.45756855 171.64305635 173.16981063 182.69761869 179.31431548\n",
            " 174.43089283 172.01746345 169.82294921 172.10953069 183.33224121\n",
            " 171.6904051  174.89026737 181.98761076 182.45756855 182.6759642\n",
            " 168.81636127 172.69373271 176.8557118  180.03822055 175.83698578\n",
            " 175.04012237 180.99786937 182.43554159 166.76041979 174.27437747\n",
            " 178.72437685 181.21588943 175.69541436 169.714593   179.12040158\n",
            " 178.3758336  173.630323   167.54318991 169.43999878 173.04155872\n",
            " 178.92378091 170.71180075 180.19415835 170.76237975 177.86681746\n",
            " 172.60541745 182.86966647 183.45580549 180.94895877 180.47563659\n",
            " 181.45424093 183.16578447 181.98761076 182.58901184 175.58829417\n",
            " 181.50143105 175.58829417 174.92788084 178.3758336  182.23573345\n",
            " 170.76237975 178.63804621 172.10953069 167.41571178 169.7688753\n",
            " 170.66103948 170.40445247 173.99621987 172.78149772 179.55977404]\n"
          ],
          "name": "stdout"
        }
      ]
    },
    {
      "cell_type": "code",
      "metadata": {
        "colab": {
          "base_uri": "https://localhost:8080/",
          "height": 278
        },
        "id": "FaDFNcfx9_Pf",
        "outputId": "0f540466-9814-479b-ff3e-8e36f3a65730"
      },
      "source": [
        "plt.figure()\r\n",
        "plt.plot(d,LpUrban)\r\n",
        "plt.plot(d,LpOpen)\r\n",
        "plt.plot(d,LpSuburban)\r\n",
        "plt.xlabel('Jarak (m)')\r\n",
        "plt.ylabel('Path Loss (dB)')\r\n",
        "plt.show()"
      ],
      "execution_count": 30,
      "outputs": [
        {
          "output_type": "display_data",
          "data": {
            "image/png": "[encoded data removed]",
            "text/plain": [
              "<Figure size 432x288 with 1 Axes>"
            ]
          },
          "metadata": {
            "tags": [],
            "needs_background": "light"
          }
        }
      ]
    },
    {
      "cell_type": "code",
      "metadata": {
        "id": "YBKpye5i9_Xu"
      },
      "source": [
        "d_sort=d[np.argsort(d)]\r\n",
        "Urban_sort1=LpUrban[np.argsort(d)]\r\n",
        "Open_sort2=LpOpen[np.argsort(d)]\r\n",
        "Suburban_sort3=LpSuburban[np.argsort(d)]"
      ],
      "execution_count": 31,
      "outputs": []
    },
    {
      "cell_type": "code",
      "metadata": {
        "colab": {
          "base_uri": "https://localhost:8080/",
          "height": 295
        },
        "id": "dorEkhJt9_fI",
        "outputId": "bab73980-ebaf-40ab-9b73-16f6f7d8582b"
      },
      "source": [
        "plt.figure()\r\n",
        "plt.title('FREKUENSI 1800MHz (URBAN, OPEN, SUBURBAN)')\r\n",
        "plt.plot(d_sort,Urban_sort1, label='Urban')\r\n",
        "plt.plot(d_sort,Open_sort2, label=\"Open\")\r\n",
        "plt.plot(d_sort,Suburban_sort3, label=\"Suburban\")\r\n",
        "plt.legend()\r\n",
        "plt.xlabel('Jarak (m)')\r\n",
        "plt.ylabel('Path Loss (dB)')\r\n",
        "plt.show()"
      ],
      "execution_count": 32,
      "outputs": [
        {
          "output_type": "display_data",
          "data": {
            "image/png": "[encoded data removed]",
            "text/plain": [
              "<Figure size 432x288 with 1 Axes>"
            ]
          },
          "metadata": {
            "tags": [],
            "needs_background": "light"
          }
        }
      ]
    },
    {
      "cell_type": "code",
      "metadata": {
        "id": "sULdkZtA9_mn"
      },
      "source": [
        "#GRAFIK MODEL URBAN(700 MHz, 900 MHz, dan 1800 MHz)"
      ],
      "execution_count": 33,
      "outputs": []
    },
    {
      "cell_type": "code",
      "metadata": {
        "id": "ox9xlEp_-dfS"
      },
      "source": [
        "def cos(frek,tipe,ht,hr,d):\r\n",
        "    if frek in range(150,1501):\r\n",
        "        Ca=69.55\r\n",
        "        Cb=26.16\r\n",
        "    elif frek in range(1501,2001):\r\n",
        "        Ca=46.3\r\n",
        "        Cb=33.9\r\n",
        "    \r\n",
        "    if tipe=='urban' :\r\n",
        "        Cm=0\r\n",
        "    elif tipe=='suburban' :\r\n",
        "        Cm= -2*((np.log10((frek/28)**2))-5.4)\r\n",
        "    elif tipe=='open' :\r\n",
        "        Cm= -4.78*(np.log10(frek))+18.33*(np.log10(frek))-40.94\r\n",
        "    else :\r\n",
        "        Cm='tipe salah'\r\n",
        "    \r\n",
        "    ahr = (1.1*np.log10(frek)-0.7)*hr-(1.56*np.log10(frek)-1.8)\r\n",
        "    Lp = Ca+(Cb*np.log10(frek))-(13.83*np.log(ht))-ahr+((44.9-6.55*np.log10(ht))*np.log10(d))-Cm\r\n",
        "    \r\n",
        "    return Lp"
      ],
      "execution_count": 34,
      "outputs": []
    },
    {
      "cell_type": "code",
      "metadata": {
        "id": "C4WfykN7-d6a"
      },
      "source": [
        "f1=700 #MHz\r\n",
        "f2=900 #MHz\r\n",
        "f3=1800 #MHz\r\n",
        "loc='urban'\r\n",
        "tower=80 #m\r\n",
        "user=1.5 #m\r\n",
        "dmin=200 #m\r\n",
        "dmax=700 #m\r\n",
        "N=200 #titik\r\n",
        "d=np.random.randint(dmin,dmax,N)"
      ],
      "execution_count": 35,
      "outputs": []
    },
    {
      "cell_type": "code",
      "metadata": {
        "colab": {
          "base_uri": "https://localhost:8080/"
        },
        "id": "c7yWKeec-eCO",
        "outputId": "1a29e76f-6ad5-4e7b-c8ef-66c539dc7cd4"
      },
      "source": [
        "print(d)"
      ],
      "execution_count": 36,
      "outputs": [
        {
          "output_type": "stream",
          "text": [
            "[600 676 317 521 318 633 269 350 543 572 502 643 489 455 419 471 406 200\n",
            " 678 291 445 690 278 532 234 506 364 268 359 477 332 350 386 499 409 443\n",
            " 612 225 373 398 214 231 386 453 375 247 463 250 323 248 277 437 690 258\n",
            " 348 405 373 690 468 251 375 676 679 513 245 475 496 403 533 258 609 343\n",
            " 638 460 699 666 444 613 494 526 206 685 258 226 217 418 364 520 500 551\n",
            " 218 545 346 527 427 583 564 285 691 309 289 234 236 380 436 461 693 405\n",
            " 249 370 376 634 666 620 308 423 529 637 285 579 309 663 270 346 599 618\n",
            " 543 397 239 203 474 352 486 480 264 477 411 251 670 206 643 255 562 259\n",
            " 511 345 583 437 297 540 423 639 450 262 570 458 494 384 580 484 459 450\n",
            " 495 554 346 645 491 396 451 568 312 350 251 495 648 279 307 684 314 637\n",
            " 541 484 529 686 250 591 409 239 664 650 623 648 250 635 410 529 233 673\n",
            " 657 514]\n"
          ],
          "name": "stdout"
        }
      ]
    },
    {
      "cell_type": "code",
      "metadata": {
        "id": "YbxCnVxf-eLt"
      },
      "source": [
        "LpUrban700=cos(f1,loc,tower,user,d)\r\n",
        "LpUrban900=cos(f2,loc,tower,user,d)\r\n",
        "LpUrban1800=cos(f3,loc,tower,user,d)"
      ],
      "execution_count": 37,
      "outputs": []
    },
    {
      "cell_type": "code",
      "metadata": {
        "colab": {
          "base_uri": "https://localhost:8080/"
        },
        "id": "hn8mLT6E-eTq",
        "outputId": "71d469ec-1082-4790-b519-ce469293e075"
      },
      "source": [
        "print(LpUrban700, LpUrban900, LpUrban1800)"
      ],
      "execution_count": 38,
      "outputs": [
        {
          "output_type": "stream",
          "text": [
            "[172.47694822 174.1569211  163.48953593 170.48825865 163.53390206\n",
            " 173.23113618 161.17671103 164.88451548 171.07085527 171.80375758\n",
            " 169.96495602 173.45192813 169.59536653 168.58024083 167.41916158\n",
            " 169.06707071 166.97519492 157.00163455 174.19853483 162.28405675\n",
            " 168.26720045 174.44566814 161.64028536 170.78256872 159.21322666\n",
            " 170.07675215 165.43698776 161.12424826 165.24215426 169.24537989\n",
            " 164.14078769 164.88451548 166.26361751 169.88052278 167.07889776\n",
            " 168.20374882 172.75589273 158.66075437 165.7810378  166.69486254\n",
            " 157.95469035 159.03146623 166.26361751 168.51818682 165.85636545\n",
            " 159.97483038 168.82575881 160.14488762 163.75366062 160.03174455\n",
            " 161.58952409 168.01166078 174.44566814 160.58858533 164.80379183\n",
            " 166.94045696 165.7810378  174.44566814 168.97706249 160.20112018\n",
            " 165.85636545 174.1569211  174.21929568 170.27028544 159.86030749\n",
            " 169.18619393 169.79558038 166.87072297 170.80902175 160.58858533\n",
            " 172.68667275 164.59993534 173.34196474 168.73419031 174.62821373\n",
            " 173.94698819 168.23551036 172.77889068 169.73866622 170.62279871\n",
            " 157.41800686 174.34322233 160.58858533 158.72322116 158.15078963\n",
            " 167.3855027  165.43698776 170.46119575 169.90872346 171.27687338\n",
            " 158.21555405 171.12264296 164.72260292 170.64955321 167.68557591\n",
            " 172.07207498 171.60535659 161.99058285 174.4660682  163.12948469\n",
            " 162.1869099  159.21322666 159.33311025 166.04294086 167.97938989\n",
            " 168.76477933 174.5067799  166.94045696 160.08842968 165.6672856\n",
            " 165.89387876 173.25337176 173.94698819 172.93883345 163.08382424\n",
            " 167.55299858 170.70291023 173.31986868 161.99058285 171.97509533\n",
            " 163.12948469 173.88339333 161.22897913 164.72260292 172.45345157\n",
            " 172.89332053 171.07085527 166.65942544 159.51104404 157.21135909\n",
            " 169.15650744 164.96477916 169.50868172 169.33369515 160.91242115\n",
            " 169.24537989 167.14761125 160.20112018 174.03133717 157.41800686\n",
            " 173.45192813 160.42383214 171.55531661 160.64307761 170.21526101\n",
            " 164.6818323  172.07207498 168.01166078 162.57154096 170.99281497\n",
            " 167.55299858 173.3640262  168.42459021 160.80530095 171.75441869\n",
            " 168.67281227 169.73866622 166.19044208 171.99940291 169.45059406\n",
            " 168.70353472 168.42459021 169.76715204 171.35335993 164.72260292\n",
            " 173.49567424 169.65286146 166.62389897 168.45585823 171.70490638\n",
            " 163.26558467 164.88451548 160.20112018 169.76715204 173.56103973\n",
            " 161.69086436 163.0380153  174.32264345 163.35559288 173.31986868\n",
            " 171.01887647 169.45059406 170.70291023 174.36377118 160.14488762\n",
            " 172.26405393 167.07889776 159.51104404 173.90462353 173.60444882\n",
            " 173.0068283  173.56103973 160.14488762 173.2755723  167.1132964\n",
            " 170.70291023 159.15290006 174.09426909 173.75533574 170.29771727] [175.32234454 177.00231742 166.33493224 173.33365497 166.37929838\n",
            " 176.0765325  164.02210735 167.72991179 173.91625158 174.6491539\n",
            " 172.81035234 176.29732444 172.44076285 171.42563715 170.2645579\n",
            " 171.91246703 169.82059124 159.84703087 177.04393115 165.12945307\n",
            " 171.11259676 177.29106446 164.48568168 173.62796503 162.05862297\n",
            " 172.92214846 168.28238408 163.96964458 168.08755058 172.09077621\n",
            " 166.98618401 167.72991179 169.10901382 172.7259191  169.92429407\n",
            " 171.04914514 175.60128905 161.50615069 168.62643412 169.54025886\n",
            " 160.80008667 161.87686255 169.10901382 171.36358314 168.70176177\n",
            " 162.8202267  171.67115513 162.99028394 166.59905694 162.87714086\n",
            " 164.43492041 170.8570571  177.29106446 163.43398165 167.64918815\n",
            " 169.78585328 168.62643412 177.29106446 171.82245881 163.0465165\n",
            " 168.70176177 177.00231742 177.064692   173.11568176 162.70570381\n",
            " 172.03159025 172.6409767  169.71611929 173.65441807 163.43398165\n",
            " 175.53206907 167.44533166 176.18736106 171.57958663 177.47361005\n",
            " 176.79238451 171.08090668 175.624287   172.58406253 173.46819503\n",
            " 160.26340318 177.18861864 163.43398165 161.56861748 160.99618595\n",
            " 170.23089901 168.28238408 173.30659206 172.75411978 174.1222697\n",
            " 161.06095037 173.96803928 167.56799924 173.49494953 170.53097223\n",
            " 174.9174713  174.4507529  164.83597917 177.31146452 165.97488101\n",
            " 165.03230622 162.05862297 162.17850657 168.88833718 170.82478621\n",
            " 171.61017565 177.35217621 169.78585328 162.933826   168.51268192\n",
            " 168.73927508 176.09876808 176.79238451 175.78422977 165.92922056\n",
            " 170.39839489 173.54830655 176.165265   164.83597917 174.82049165\n",
            " 165.97488101 176.72878965 164.07437545 167.56799924 175.29884789\n",
            " 175.73871685 173.91625158 169.50482176 162.35644036 160.0567554\n",
            " 172.00190375 167.81017547 172.35407804 172.17909147 163.75781746\n",
            " 172.09077621 169.99300756 163.0465165  176.87673349 160.26340318\n",
            " 176.29732444 163.26922845 174.40071293 163.48847393 173.06065732\n",
            " 167.52722862 174.9174713  170.8570571  165.41693728 173.83821129\n",
            " 170.39839489 176.20942252 171.26998653 163.65069727 174.59981501\n",
            " 171.51820859 172.58406253 169.0358384  174.84479923 172.29599038\n",
            " 171.54893104 171.26998653 172.61254836 174.19875625 167.56799924\n",
            " 176.34107056 172.49825778 169.46929529 171.30125455 174.5503027\n",
            " 166.11098098 167.72991179 163.0465165  172.61254836 176.40643605\n",
            " 164.53626068 165.88341161 177.16803977 166.2009892  176.165265\n",
            " 173.86427279 172.29599038 173.54830655 177.2091675  162.99028394\n",
            " 175.10945025 169.92429407 162.35644036 176.75001985 176.44984513\n",
            " 175.85222462 176.40643605 162.99028394 176.12096862 169.95869272\n",
            " 173.54830655 161.99829638 176.9396654  176.60073206 173.14311358] [185.11600572 186.79597859 176.12859342 183.12731614 176.17295956\n",
            " 185.87019368 173.81576852 177.52357297 183.70991276 184.44281507\n",
            " 182.60401352 186.09098562 182.23442403 181.21929832 180.05821908\n",
            " 181.7061282  179.61425242 169.64069205 186.83759232 174.92311425\n",
            " 180.90625794 187.08472564 174.27934286 183.42162621 171.85228415\n",
            " 182.71580964 178.07604525 173.76330575 177.88121175 181.88443739\n",
            " 176.77984519 177.52357297 178.902675   182.51958027 179.71795525\n",
            " 180.84280631 185.39495023 171.29981187 178.42009529 179.33392003\n",
            " 170.59374784 171.67052372 178.902675   181.15724431 178.49542295\n",
            " 172.61388787 181.4648163  172.78394512 176.39271811 172.67080204\n",
            " 174.22858158 180.65071828 187.08472564 173.22764283 177.44284933\n",
            " 179.57951445 178.42009529 187.08472564 181.61611999 172.84017768\n",
            " 178.49542295 186.79597859 186.85835318 182.90934294 172.49936498\n",
            " 181.82525143 182.43463788 179.50978046 183.44807925 173.22764283\n",
            " 185.32573025 177.23899284 185.98102224 181.37324781 187.26727123\n",
            " 186.58604568 180.87456785 185.41794817 182.37772371 183.26185621\n",
            " 170.05706436 186.98227982 173.22764283 171.36227866 170.78984712\n",
            " 180.02456019 178.07604525 183.10025324 182.54778096 183.91593088\n",
            " 170.85461155 183.76170046 177.36166041 183.2886107  180.3246334\n",
            " 184.71113247 184.24441408 174.62964035 187.10512569 175.76854219\n",
            " 174.82596739 171.85228415 171.97216775 178.68199836 180.61844739\n",
            " 181.40383683 187.14583739 179.57951445 172.72748718 178.30634309\n",
            " 178.53293625 185.89242926 186.58604568 185.57789095 175.72288173\n",
            " 180.19205607 183.34196773 185.95892618 174.62964035 184.61415283\n",
            " 175.76854219 186.52245082 173.86803663 177.36166041 185.09250907\n",
            " 185.53237803 183.70991276 179.29848294 172.15010153 169.85041658\n",
            " 181.79556493 177.60383665 182.14773921 181.97275265 173.55147864\n",
            " 181.88443739 179.78666874 172.84017768 186.67039466 170.05706436\n",
            " 186.09098562 173.06288963 184.19437411 173.28213511 182.8543185\n",
            " 177.3208898  184.71113247 180.65071828 175.21059846 183.63187246\n",
            " 180.19205607 186.0030837  181.06364771 173.44435845 184.39347619\n",
            " 181.31186977 182.37772371 178.82949958 184.63846041 182.08965155\n",
            " 181.34259222 181.06364771 182.40620954 183.99241742 177.36166041\n",
            " 186.13473173 182.29191895 179.26295647 181.09491573 184.34396388\n",
            " 175.90464216 177.52357297 172.84017768 182.40620954 186.20009722\n",
            " 174.32992186 175.67707279 186.96170094 175.99465037 185.95892618\n",
            " 183.65793397 182.08965155 183.34196773 187.00282867 172.78394512\n",
            " 184.90311142 179.71795525 172.15010153 186.54368103 186.24350631\n",
            " 185.64588579 186.20009722 172.78394512 185.91462979 179.75235389\n",
            " 183.34196773 171.79195756 186.73332658 186.39439323 182.93677476]\n"
          ],
          "name": "stdout"
        }
      ]
    },
    {
      "cell_type": "code",
      "metadata": {
        "colab": {
          "base_uri": "https://localhost:8080/",
          "height": 278
        },
        "id": "PiqO3pZi-ecB",
        "outputId": "207a7f25-ba43-4025-b339-ea5cbb90284f"
      },
      "source": [
        "plt.figure()\r\n",
        "plt.plot(d,LpUrban700)\r\n",
        "plt.plot(d,LpUrban900)\r\n",
        "plt.plot(d,LpUrban1800)\r\n",
        "plt.xlabel('Jarak (m)')\r\n",
        "plt.ylabel('Path Loss (dB)')\r\n",
        "plt.show()"
      ],
      "execution_count": 39,
      "outputs": [
        {
          "output_type": "display_data",
          "data": {
            "image/png": "[encoded data removed]",
            "text/plain": [
              "<Figure size 432x288 with 1 Axes>"
            ]
          },
          "metadata": {
            "tags": [],
            "needs_background": "light"
          }
        }
      ]
    },
    {
      "cell_type": "code",
      "metadata": {
        "id": "0qHQ-pfz-ekD"
      },
      "source": [
        "d_sort=d[np.argsort(d)]\r\n",
        "Urban_sort1=LpUrban700[np.argsort(d)]\r\n",
        "Urban_sort2=LpUrban900[np.argsort(d)]\r\n",
        "Urban_sort3=LpUrban1800[np.argsort(d)]"
      ],
      "execution_count": 40,
      "outputs": []
    },
    {
      "cell_type": "code",
      "metadata": {
        "colab": {
          "base_uri": "https://localhost:8080/",
          "height": 295
        },
        "id": "lTCZ1goj-evk",
        "outputId": "c4daa829-153e-4f5b-a50f-d52ce5757177"
      },
      "source": [
        "plt.figure()\r\n",
        "plt.plot(d_sort,Urban_sort1, label='700MHz')\r\n",
        "plt.plot(d_sort,Urban_sort2, label='900MHz')\r\n",
        "plt.plot(d_sort,Urban_sort3, label='1800MHz')\r\n",
        "plt.legend()\r\n",
        "plt.title('MODEL URBAN (700MHz, 900MHz, 1800MHz)')\r\n",
        "plt.xlabel('Jarak (m)')\r\n",
        "plt.ylabel('Path Loss (dB)')\r\n",
        "plt.show()"
      ],
      "execution_count": 41,
      "outputs": [
        {
          "output_type": "display_data",
          "data": {
            "image/png": "[encoded data removed]",
            "text/plain": [
              "<Figure size 432x288 with 1 Axes>"
            ]
          },
          "metadata": {
            "tags": [],
            "needs_background": "light"
          }
        }
      ]
    }
  ]
}